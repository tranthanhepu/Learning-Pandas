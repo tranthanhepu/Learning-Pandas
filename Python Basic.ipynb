{
 "cells": [
  {
   "cell_type": "markdown",
   "id": "1d82788d-e1fc-439a-b06b-63528ff1651e",
   "metadata": {},
   "source": [
    "# Example Learning Pandas"
   ]
  },
  {
   "cell_type": "code",
   "execution_count": 5,
   "id": "b39bdcbc-faad-4a18-9f73-d06343671e49",
   "metadata": {},
   "outputs": [],
   "source": [
    "import pandas as pd"
   ]
  },
  {
   "cell_type": "code",
   "execution_count": 16,
   "id": "e530053b-ce58-446f-8204-ae9c2e297c14",
   "metadata": {},
   "outputs": [],
   "source": [
    "TenFileExcel = \"/Users/thanhtv/Documents/LearningPandas/roi_mang_new.xlsx\"\n",
    "\n",
    "TenSheet_RoiMang = \"RoiMang\"\n",
    "TenSheet_CheckTheoThang = \"Check theo tháng\"\n",
    "\n",
    "df_RoiMang = pd.read_excel(TenFileExcel, sheet_name = TenSheet_RoiMang)\n",
    "\n",
    "df_CheckTheoThang  = pd.read_excel(TenFileExcel, sheet_name = TenSheet_CheckTheoThang)"
   ]
  },
  {
   "cell_type": "code",
   "execution_count": null,
   "id": "16565e6d-5ace-4bc9-bd49-e1cb14622c49",
   "metadata": {},
   "outputs": [
    {
     "name": "stdout",
     "output_type": "stream",
     "text": [
      "{'TenKH': ['ALONG'], 'Ranking': ['SILVER'], 'Area': ['Vung 5']}\n",
      "{'TenKH': ['AN THỊ KIM THÚY'], 'Ranking': ['SILVER'], 'Area': ['Vung 1']}\n",
      "{'TenKH': ['BACH QUOC DAT'], 'Ranking': ['SILVER'], 'Area': ['Vung 5']}\n",
      "{'TenKH': ['BACH VAN HIEN'], 'Ranking': ['SILVER'], 'Area': ['Vung 1']}\n",
      "{'TenKH': ['BAN VAN BIEN'], 'Ranking': ['SILVER'], 'Area': ['Vung 1']}\n",
      "{'TenKH': ['BANH QUANG MEN'], 'Ranking': ['SILVER'], 'Area': ['Vung 5']}\n",
      "{'TenKH': ['BAT'], 'Ranking': ['SILVER'], 'Area': ['Vung 4']}\n",
      "{'TenKH': ['BE XUAN DUC'], 'Ranking': ['SILVER'], 'Area': ['Vung 2']}\n",
      "{'TenKH': ['BIỆN KHƯƠNG DUY'], 'Ranking': ['SILVER'], 'Area': ['Vung 5']}\n",
      "{'TenKH': ['BUI ANH TU'], 'Ranking': ['SILVER'], 'Area': ['Vung 5']}\n"
     ]
    }
   ],
   "source": [
    "for i, row_Thang in df_CheckTheoThang.iterrows():\n",
    "    for j, row_RoiMang in df_RoiMang.iterrows():\n",
    "        if (i < 10) and (j < 10):\n",
    "            if str(row_Thang[\"CONTRACT\"]) == str(row_RoiMang[\"CONTRACT\"]):                        \n",
    "                d = {\n",
    "                    \"TenKH\": [row_Thang[\"FULL_NAME\"]],\n",
    "                    \"Ranking\": [row_Thang[\"LOYALTY_RANK\"]],\n",
    "                    \"Area\": [row_RoiMang[\"VUNG\"]]\n",
    "                }  \n",
    "                \n",
    "                print(d)                \n",
    "                break;\n",
    "\n"
   ]
  },
  {
   "cell_type": "code",
   "execution_count": null,
   "id": "907976d2-c1ef-4c3a-907c-3eb8f8da8e8c",
   "metadata": {},
   "outputs": [],
   "source": []
  },
  {
   "cell_type": "code",
   "execution_count": null,
   "id": "731503d1-4786-4543-8b21-59d7bb3574ec",
   "metadata": {},
   "outputs": [],
   "source": []
  }
 ],
 "metadata": {
  "kernelspec": {
   "display_name": "Python 3",
   "language": "python",
   "name": "python3"
  },
  "language_info": {
   "codemirror_mode": {
    "name": "ipython",
    "version": 3
   },
   "file_extension": ".py",
   "mimetype": "text/x-python",
   "name": "python",
   "nbconvert_exporter": "python",
   "pygments_lexer": "ipython3",
   "version": "3.8.8"
  }
 },
 "nbformat": 4,
 "nbformat_minor": 5
}
